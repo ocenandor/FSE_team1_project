{
 "cells": [
  {
   "cell_type": "code",
   "execution_count": 4,
   "id": "473a31bb",
   "metadata": {},
   "outputs": [],
   "source": [
    "from img import *"
   ]
  },
  {
   "cell_type": "code",
   "execution_count": 5,
   "id": "fef91f94",
   "metadata": {},
   "outputs": [],
   "source": [
    "p = Calculator()"
   ]
  },
  {
   "cell_type": "code",
   "execution_count": 7,
   "id": "4c048a17",
   "metadata": {},
   "outputs": [
    {
     "data": {
      "text/plain": [
       "-11"
      ]
     },
     "execution_count": 7,
     "metadata": {},
     "output_type": "execute_result"
    }
   ],
   "source": [
    "p.substract(22, 33)"
   ]
  }
 ],
 "metadata": {
  "kernelspec": {
   "display_name": "Python 3 (ipykernel)",
   "language": "python",
   "name": "python3"
  },
  "language_info": {
   "codemirror_mode": {
    "name": "ipython",
    "version": 3
   },
   "file_extension": ".py",
   "mimetype": "text/x-python",
   "name": "python",
   "nbconvert_exporter": "python",
   "pygments_lexer": "ipython3",
   "version": "3.9.15"
  }
 },
 "nbformat": 4,
 "nbformat_minor": 5
}
